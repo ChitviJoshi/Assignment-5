{
  "nbformat": 4,
  "nbformat_minor": 0,
  "metadata": {
    "colab": {
      "provenance": [],
      "authorship_tag": "ABX9TyNmthTZNRKoRG+mWbo3Sbi6",
      "include_colab_link": true
    },
    "kernelspec": {
      "name": "python3",
      "display_name": "Python 3"
    },
    "language_info": {
      "name": "python"
    }
  },
  "cells": [
    {
      "cell_type": "markdown",
      "metadata": {
        "id": "view-in-github",
        "colab_type": "text"
      },
      "source": [
        "<a href=\"https://colab.research.google.com/github/ChitviJoshi/Assignment-5/blob/main/Q4.ipynb\" target=\"_parent\"><img src=\"https://colab.research.google.com/assets/colab-badge.svg\" alt=\"Open In Colab\"/></a>"
      ]
    },
    {
      "cell_type": "code",
      "execution_count": 32,
      "metadata": {
        "colab": {
          "base_uri": "https://localhost:8080/"
        },
        "id": "Eh-pvsM4MHTc",
        "outputId": "70b7e60f-9f34-4843-926e-51f8f38db027"
      },
      "outputs": [
        {
          "output_type": "stream",
          "name": "stdout",
          "text": [
            "Overwriting Q4.cpp\n"
          ]
        }
      ],
      "source": [
        "%%writefile Q4.cpp\n",
        "#include <iostream>\n",
        "#include <forward_list>\n",
        "using namespace std;\n",
        "\n",
        "int main() {\n",
        "    forward_list<int> fl = {1, 2, 3, 4};\n",
        "\n",
        "    cout << \"Original List: \";\n",
        "    for (int val : fl) cout << val << \" \";\n",
        "    cout << endl;\n",
        "\n",
        "    forward_list<int> reversed;\n",
        "\n",
        "    for (int val : fl) {\n",
        "        reversed.push_front(val);\n",
        "    }\n",
        "\n",
        "    cout << \"Reversed List: \";\n",
        "    for (int val : reversed) cout << val << \" \";\n",
        "    cout << endl;\n",
        "\n",
        "    return 0;\n",
        "}\n",
        "\n",
        "\n",
        "\n"
      ]
    },
    {
      "cell_type": "code",
      "source": [
        "!g++ Q4.cpp -o Q4\n",
        "!./Q4"
      ],
      "metadata": {
        "colab": {
          "base_uri": "https://localhost:8080/"
        },
        "id": "LJGY3RgtNLF0",
        "outputId": "98068b0e-4bfa-44b4-c81b-1b38b45ac2eb"
      },
      "execution_count": 33,
      "outputs": [
        {
          "output_type": "stream",
          "name": "stdout",
          "text": [
            "Original List: 1 2 3 4 \n",
            "Reversed List: 4 3 2 1 \n"
          ]
        }
      ]
    }
  ]
}