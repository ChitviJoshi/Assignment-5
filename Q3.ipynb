{
  "nbformat": 4,
  "nbformat_minor": 0,
  "metadata": {
    "colab": {
      "provenance": [],
      "authorship_tag": "ABX9TyP1Ftn9C5YHRmM0M1JAoZnv",
      "include_colab_link": true
    },
    "kernelspec": {
      "name": "python3",
      "display_name": "Python 3"
    },
    "language_info": {
      "name": "python"
    }
  },
  "cells": [
    {
      "cell_type": "markdown",
      "metadata": {
        "id": "view-in-github",
        "colab_type": "text"
      },
      "source": [
        "<a href=\"https://colab.research.google.com/github/ChitviJoshi/Assignment-5/blob/main/Q3.ipynb\" target=\"_parent\"><img src=\"https://colab.research.google.com/assets/colab-badge.svg\" alt=\"Open In Colab\"/></a>"
      ]
    },
    {
      "cell_type": "code",
      "execution_count": 22,
      "metadata": {
        "colab": {
          "base_uri": "https://localhost:8080/"
        },
        "id": "Eh-pvsM4MHTc",
        "outputId": "759f3de7-8488-4040-8302-ae13f7deb949"
      },
      "outputs": [
        {
          "output_type": "stream",
          "name": "stdout",
          "text": [
            "Writing Q3.cpp\n"
          ]
        }
      ],
      "source": [
        "%%writefile Q3.cpp\n",
        "#include <iostream>\n",
        "using namespace std;\n",
        "\n",
        "struct Node {\n",
        "    int data;\n",
        "    Node* next;\n",
        "};\n",
        "\n",
        "Node* head = nullptr;\n",
        "\n",
        "\n",
        "void insert(int val) {\n",
        "    Node* newNode = new Node{val, nullptr};\n",
        "    if (!head) {\n",
        "        head = newNode;\n",
        "        return;\n",
        "    }\n",
        "    Node* temp = head;\n",
        "    while (temp->next) temp = temp->next;\n",
        "    temp->next = newNode;\n",
        "}\n",
        "\n",
        "\n",
        "void findMiddle() {\n",
        "    if (!head) {\n",
        "        cout << \"List is empty!\" << endl;\n",
        "        return;\n",
        "    }\n",
        "\n",
        "    Node* slow = head;\n",
        "    Node* fast = head;\n",
        "\n",
        "    while (fast && fast->next) {\n",
        "        slow = slow->next;\n",
        "        fast = fast->next->next;\n",
        "    }\n",
        "\n",
        "    cout << \"Middle element: \" << slow->data << endl;\n",
        "}\n",
        "\n",
        "void display() {\n",
        "    Node* temp = head;\n",
        "    while (temp) {\n",
        "        cout << temp->data << \" -> \";\n",
        "        temp = temp->next;\n",
        "    }\n",
        "    cout << \"NULL\" << endl;\n",
        "}\n",
        "\n",
        "int main() {\n",
        "    insert(1);\n",
        "    insert(2);\n",
        "    insert(3);\n",
        "    insert(4);\n",
        "    insert(5);\n",
        "\n",
        "    cout << \"Linked List: \";\n",
        "    display();\n",
        "\n",
        "    findMiddle();\n",
        "\n",
        "    return 0;\n",
        "}\n",
        "\n",
        "\n",
        "\n"
      ]
    },
    {
      "cell_type": "code",
      "source": [
        "!g++ Q2.cpp -o Q2\n",
        "!./Q2"
      ],
      "metadata": {
        "colab": {
          "base_uri": "https://localhost:8080/"
        },
        "id": "LJGY3RgtNLF0",
        "outputId": "d7c100ce-9688-4e6e-ab6f-40c21d6950a9"
      },
      "execution_count": 23,
      "outputs": [
        {
          "output_type": "stream",
          "name": "stdout",
          "text": [
            "Linked List: 1 -> 2 -> 3 -> 4 -> 5 -> NULL\n",
            "Middle element: 3\n"
          ]
        }
      ]
    }
  ]
}