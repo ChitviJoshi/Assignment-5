{
  "nbformat": 4,
  "nbformat_minor": 0,
  "metadata": {
    "colab": {
      "provenance": [],
      "authorship_tag": "ABX9TyNM6I9HjFqVTVbxHE/i09H6",
      "include_colab_link": true
    },
    "kernelspec": {
      "name": "python3",
      "display_name": "Python 3"
    },
    "language_info": {
      "name": "python"
    }
  },
  "cells": [
    {
      "cell_type": "markdown",
      "metadata": {
        "id": "view-in-github",
        "colab_type": "text"
      },
      "source": [
        "<a href=\"https://colab.research.google.com/github/ChitviJoshi/Assignment-5/blob/main/Q2.ipynb\" target=\"_parent\"><img src=\"https://colab.research.google.com/assets/colab-badge.svg\" alt=\"Open In Colab\"/></a>"
      ]
    },
    {
      "cell_type": "code",
      "execution_count": 28,
      "metadata": {
        "colab": {
          "base_uri": "https://localhost:8080/"
        },
        "id": "Eh-pvsM4MHTc",
        "outputId": "258df775-a286-4615-cdbf-a68330b67153"
      },
      "outputs": [
        {
          "output_type": "stream",
          "name": "stdout",
          "text": [
            "Overwriting Q2.cpp\n"
          ]
        }
      ],
      "source": [
        "%%writefile Q2.cpp\n",
        "#include <iostream>\n",
        "using namespace std;\n",
        "\n",
        "struct Node {\n",
        "    int data;\n",
        "    Node* next;\n",
        "};\n",
        "\n",
        "Node* head = nullptr;\n",
        "\n",
        "void insert(int val) {\n",
        "    Node* newNode = new Node{val, nullptr};\n",
        "    if (!head) {\n",
        "        head = newNode;\n",
        "        return;\n",
        "    }\n",
        "    Node* temp = head;\n",
        "    while (temp->next) temp = temp->next;\n",
        "    temp->next = newNode;\n",
        "}\n",
        "\n",
        "\n",
        "void display() {\n",
        "    Node* temp = head;\n",
        "    while (temp) {\n",
        "        cout << temp->data << \" -> \";\n",
        "        temp = temp->next;\n",
        "    }\n",
        "    cout << \"NULL\" << endl;\n",
        "}\n",
        "\n",
        "int deleteAllOccurrences(int key) {\n",
        "    int count = 0;\n",
        "\n",
        "    while (head && head->data == key) {\n",
        "        Node* temp = head;\n",
        "        head = head->next;\n",
        "        delete temp;\n",
        "        count++;\n",
        "    }\n",
        "\n",
        "    Node* curr = head;\n",
        "    while (curr && curr->next) {\n",
        "        if (curr->next->data == key) {\n",
        "            Node* temp = curr->next;\n",
        "            curr->next = curr->next->next;\n",
        "            delete temp;\n",
        "            count++;\n",
        "        } else {\n",
        "            curr = curr->next;\n",
        "        }\n",
        "    }\n",
        "\n",
        "    return count;\n",
        "}\n",
        "\n",
        "int main() {\n",
        "    insert(1);\n",
        "    insert(2);\n",
        "    insert(1);\n",
        "    insert(2);\n",
        "    insert(1);\n",
        "    insert(3);\n",
        "    insert(1);\n",
        "\n",
        "    cout << \"Original Linked List: \";\n",
        "    display();\n",
        "\n",
        "    int key = 1;\n",
        "    int count = deleteAllOccurrences(key);\n",
        "\n",
        "    cout << \"\\nCount of \" << key << \": \" << count << endl;\n",
        "    cout << \"Updated Linked List: \";\n",
        "    display();\n",
        "\n",
        "    return 0;\n",
        "}\n",
        "\n",
        "\n",
        "\n",
        "\n"
      ]
    },
    {
      "cell_type": "code",
      "source": [
        "!g++ Q2.cpp -o Q2\n",
        "!./Q2"
      ],
      "metadata": {
        "colab": {
          "base_uri": "https://localhost:8080/"
        },
        "id": "LJGY3RgtNLF0",
        "outputId": "edeebb87-d920-4184-8213-17d30d0383d7"
      },
      "execution_count": 29,
      "outputs": [
        {
          "output_type": "stream",
          "name": "stdout",
          "text": [
            "Original Linked List: 1 -> 2 -> 1 -> 2 -> 1 -> 3 -> 1 -> NULL\n",
            "\n",
            "Count of 1: 4\n",
            "Updated Linked List: 2 -> 2 -> 3 -> NULL\n"
          ]
        }
      ]
    }
  ]
}